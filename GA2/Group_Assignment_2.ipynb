{
 "cells": [
  {
   "cell_type": "markdown",
   "metadata": {},
   "source": [
    "<h3>To run cells, click into one and press <i>Run</i> up on the bar</h3>\n",
    "<h4>A shortcut is Shift+Enter to run a cell/box</h4>\n",
    "<h4>The Python interpreter will keep things in memory from cell to cell</h4>\n",
    "<h4>The <i>Kernel</i> section is useful if you need to interrupt or restart for any reason</h4>"
   ]
  },
  {
   "cell_type": "code",
   "execution_count": 4,
   "metadata": {},
   "outputs": [
    {
     "name": "stdout",
     "output_type": "stream",
     "text": [
      "Requirement already satisfied: numpy in /System/Library/Frameworks/Python.framework/Versions/2.7/Extras/lib/python (1.8.0rc1)\n",
      "\u001b[33mYou are using pip version 10.0.1, however version 19.1.1 is available.\n",
      "You should consider upgrading via the 'pip install --upgrade pip' command.\u001b[0m\n",
      "Requirement already satisfied: matplotlib in /System/Library/Frameworks/Python.framework/Versions/2.7/Extras/lib/python (1.3.1)\n",
      "Requirement already satisfied: numpy>=1.5 in /System/Library/Frameworks/Python.framework/Versions/2.7/Extras/lib/python (from matplotlib) (1.8.0rc1)\n",
      "Requirement already satisfied: python-dateutil in /System/Library/Frameworks/Python.framework/Versions/2.7/Extras/lib/python (from matplotlib) (1.5)\n",
      "Requirement already satisfied: tornado in /Library/Python/2.7/site-packages/tornado-5.0.2-py2.7-macosx-10.13-intel.egg (from matplotlib) (5.0.2)\n",
      "Requirement already satisfied: pyparsing>=1.5.6 in /System/Library/Frameworks/Python.framework/Versions/2.7/Extras/lib/python (from matplotlib) (2.0.1)\n",
      "Requirement already satisfied: nose in /Library/Python/2.7/site-packages/nose-1.3.7-py2.7.egg (from matplotlib) (1.3.7)\n",
      "Requirement already satisfied: futures in /Library/Python/2.7/site-packages/futures-3.2.0-py2.7.egg (from tornado->matplotlib) (3.2.0)\n",
      "Requirement already satisfied: singledispatch in /Library/Python/2.7/site-packages/singledispatch-3.4.0.3-py2.7.egg (from tornado->matplotlib) (3.4.0.3)\n",
      "Requirement already satisfied: backports_abc>=0.4 in /Library/Python/2.7/site-packages/backports_abc-0.5-py2.7.egg (from tornado->matplotlib) (0.5)\n",
      "Requirement already satisfied: six in /System/Library/Frameworks/Python.framework/Versions/2.7/Extras/lib/python (from singledispatch->tornado->matplotlib) (1.4.1)\n",
      "\u001b[33mYou are using pip version 10.0.1, however version 19.1.1 is available.\n",
      "You should consider upgrading via the 'pip install --upgrade pip' command.\u001b[0m\n"
     ]
    }
   ],
   "source": [
    "# run this box if you don't already have these installed\n",
    "#    or run these in command line\n",
    "\n",
    "# you can also use command line to install these with 'conda install numpy' (for example) \n",
    "#    if using Anaconda\n",
    "\n",
    "# !pip install numpy\n",
    "# !pip install matplotlib"
   ]
  },
  {
   "cell_type": "code",
   "execution_count": 5,
   "metadata": {},
   "outputs": [],
   "source": [
    "import numpy as np\n",
    "import matplotlib.pyplot as plt\n",
    "import sys\n",
    "import time"
   ]
  },
  {
   "cell_type": "markdown",
   "metadata": {},
   "source": [
    "<h3>Implement the algorithms as described</h3>\n",
    "<h4>You need to do the ### YOUR CODE HERE ### sections</h4>"
   ]
  },
  {
   "cell_type": "code",
   "execution_count": 6,
   "metadata": {},
   "outputs": [],
   "source": [
    "# Use Greedy to find the minimum number of coins\n",
    "\n",
    "# this changes coin counts into the actual coins\n",
    "def get_result_greedy(coin_counts, coins):\n",
    "    coins_used = []\n",
    "    for i in range(len(coin_counts)):\n",
    "        for j in range(coin_counts[i]):\n",
    "            coins_used.append(coins[i])\n",
    "    return coins_used\n",
    "\n",
    "# Greedy implementation\n",
    "def change_greedy(coins, value):\n",
    "    if len(coins) <= 0:\n",
    "        return 0\n",
    "    \n",
    "    n = len(coins)\n",
    "    \n",
    "    # coin_counts is the counts of coins you are using\n",
    "    # coin_counts[i] = count(coin[i])\n",
    "    coin_counts = [0]*len(coins)\n",
    "    # coins_tmp is a replica of coins\n",
    "    coins_tmp = coins[:]\n",
    "    \n",
    "    # Implement the greedy version as described in pdf\n",
    "    # Remember to add to coin_counts[i] for coins[i], when appropriate\n",
    "    if value in coins:\n",
    "        return 1\n",
    "    else:\n",
    "        while (value):\n",
    "            largest_coin = max(coins_tmp)\n",
    "            while (value - largest_coin >= 0):\n",
    "                value -= largest_coin\n",
    "                coin_counts[coins_tmp.index(largest_coin)] += 1\n",
    "            max_index = coins_tmp.index(largest_coin)\n",
    "            coins_tmp[max_index] = 1\n",
    "    \n",
    "        # return the counts\n",
    "        # will be converted in get_result_greedy()\n",
    "        return coin_counts"
   ]
  },
  {
   "cell_type": "code",
   "execution_count": 7,
   "metadata": {},
   "outputs": [
    {
     "name": "stdout",
     "output_type": "stream",
     "text": [
      "Value: 40, Number of coins: 7, Coins used: [1, 1, 1, 1, 1, 10, 25]\n"
     ]
    }
   ],
   "source": [
    "# Test your greedy implementation\n",
    "# It should pass assert statements\n",
    "\n",
    "def test_greedy():\n",
    "    coins = [1, 10, 25, 50]\n",
    "    value = 40\n",
    "    coin_counts = change_greedy(coins, value)\n",
    "    num_coins = sum(coin_counts)\n",
    "    coins_used = get_result_greedy(coin_counts, coins)\n",
    "    assert num_coins == 7, 'Wrong number of coins'\n",
    "    assert coins_used == [1, 1, 1, 1, 1, 10, 25], 'Wrong coins used'\n",
    "    assert sum(coins_used) == value, 'Incorrect change value'\n",
    "    print('Value: {}, Number of coins: {}, Coins used: {}'.format(value, num_coins, coins_used))\n",
    "test_greedy()"
   ]
  },
  {
   "cell_type": "code",
   "execution_count": 19,
   "metadata": {},
   "outputs": [],
   "source": [
    "# Use Dynamic Programming to find the minimum number of coins\n",
    "\n",
    "# ans is the coins you are using, returned by change_dp()\n",
    "def get_result_dp(ans, value):\n",
    "    count = value\n",
    "    coins_used = []\n",
    "    while count > 0:\n",
    "        coins_used.append(ans[count])\n",
    "        count = count - ans[count]\n",
    "    return coins_used\n",
    "    \n",
    "\n",
    "# dynamic programming implementation\n",
    "def change_dp(coins, value): \n",
    "    \n",
    "    n = len(coins)\n",
    "    \n",
    "    # table[i] will be storing the minimum \n",
    "    #   number of coins required for value i \n",
    "    table = [0 for i in range(value + 1)]\n",
    "\n",
    "    # ans[i] will be the coins array index of first coin\n",
    "    #   you make change with at value i\n",
    "    # we fill with -1 for non-existent values\n",
    "    ans = [-1 for i in range(value + 1)]\n",
    "\n",
    "    # Base case (If given value is 0)\n",
    "    # Can't make change for 0 \n",
    "    table[0] = 0\n",
    "\n",
    "    # Initialize all table values as infinite\n",
    "    for i in range(1, value + 1): \n",
    "        table[i] = sys.maxsize \n",
    "        \n",
    "    counter = 0\n",
    "\n",
    "    # Compute minimum coins required  \n",
    "    # for all values i from 1 to value\n",
    "    # Be sure to store the first coin you use at each i value\n",
    "    for i in range(value + 1):\n",
    "        for j in range(n):\n",
    "            if coins[j] <= i:\n",
    "                result = table[i - coins[j]]\n",
    "                if result != sys.maxsize and result + 1 < table[i]:\n",
    "                    table[i] = result + 1\n",
    "                    ans[i] = coins[j]     \n",
    "                    counter += 1\n",
    "    \n",
    "    # return minimum coins and the coins we used\n",
    "    print(counter)\n",
    "    return table[value], ans"
   ]
  },
  {
   "cell_type": "code",
   "execution_count": 20,
   "metadata": {},
   "outputs": [
    {
     "name": "stdout",
     "output_type": "stream",
     "text": [
      "46\n"
     ]
    }
   ],
   "source": [
    "# Test your DP implementation\n",
    "# It should pass assert statements\n",
    "def test_dp():\n",
    "    coins = [1, 10, 25, 50]  \n",
    "    value = 40\n",
    "    \n",
    "    num_coins, ans = change_dp(coins, value)\n",
    "    coin_usage = get_result_dp(ans, value)\n",
    "    \n",
    "#     assert num_coins == 4, 'Wrong number of coins'\n",
    "#     assert coin_usage == [10, 10, 10, 10], 'Wrong coin types'\n",
    "#     assert sum(coin_usage) == value, 'Incorrect change value'\n",
    "    \n",
    "#     print('Value: {}, Number of coins: {}, Coins used: {}'.format(value, len(coin_usage), coin_usage)) \n",
    "\n",
    "test_dp()"
   ]
  },
  {
   "cell_type": "code",
   "execution_count": 7,
   "metadata": {},
   "outputs": [
    {
     "name": "stdout",
     "output_type": "stream",
     "text": [
      "4\n"
     ]
    }
   ],
   "source": [
    "# Use DP to calculate the possible ways to make change for a given value\n",
    "\n",
    "def count_dp(coins, value):\n",
    "    n = len(coins)\n",
    "    # store the number of possible ways in the table\n",
    "    # the table will be indexed by 0, 1, 2,..., value where T[i] is the possible ways to make change for a given value\n",
    "    table = [[0 for i in range(n)] for i in range(value + 1)]\n",
    "    \n",
    "    for i in range(n):\n",
    "        table[0][i] = 1\n",
    "        \n",
    "    for i in range(1, value + 1):\n",
    "        for j in range(n):\n",
    "            \n",
    "            if i - coins[j] >=0:\n",
    "                # if the coin can be used\n",
    "                # derive the number of ways that made by the same coin\n",
    "                x = table[i - coins[j]][j]\n",
    "            else:\n",
    "                # the coin can not be used\n",
    "                x = 0\n",
    "            \n",
    "            # derive the number of ways that made by the smaller coin\n",
    "            if j >= 1:\n",
    "                y = table[i][j - 1]\n",
    "            else:\n",
    "                y = 0\n",
    "                \n",
    "            table[i][j] = x + y\n",
    "            \n",
    "    return table[value][n-1]\n",
    "\n",
    "test_list = [1, 2, 3]\n",
    "value = 4\n",
    "print(count_dp(test_list, value))\n"
   ]
  },
  {
   "cell_type": "markdown",
   "metadata": {},
   "source": [
    "<h3>Part 5 code for plots</h3>\n",
    "<h4>You need to do the analysis in the report and explain what this represents</h4>"
   ]
  },
  {
   "cell_type": "code",
   "execution_count": 10,
   "metadata": {},
   "outputs": [
    {
     "data": {
      "image/png": "[encoded data removed]",
      "text/plain": [
       "<Figure size 432x288 with 1 Axes>"
      ]
     },
     "metadata": {
      "needs_background": "light"
     },
     "output_type": "display_data"
    }
   ],
   "source": [
    "# part 5 plotting\n",
    "# this should automatically work if your function is implemented\n",
    "\n",
    "coins = [1, 10, 25, 50]\n",
    "vals = [x for x in range(2000, 2301)]\n",
    "greedy_returns = []\n",
    "dp_returns = []\n",
    "\n",
    "for val in vals:\n",
    "    greedy_returns.append(len(get_result_greedy(change_greedy(coins, val), coins)))\n",
    "    num_coins, ans = change_dp(coins, val)\n",
    "    dp_returns.append(num_coins)\n",
    "\n",
    "plt.plot(vals, greedy_returns, label='Greedy')\n",
    "plt.plot(vals, dp_returns, label='DP')\n",
    "plt.xlabel('Value')\n",
    "plt.ylabel('Number of Coins')\n",
    "plt.legend(loc='best')\n",
    "plt.grid()"
   ]
  },
  {
   "cell_type": "markdown",
   "metadata": {},
   "source": [
    "<h3>Part 6 code for plots</h3>\n",
    "<h3>Modifying values</h3>\n",
    "<h4>You need to do the analysis in the report and explain what this represents</h4>"
   ]
  },
  {
   "cell_type": "code",
   "execution_count": 7,
   "metadata": {},
   "outputs": [
    {
     "ename": "KeyboardInterrupt",
     "evalue": "",
     "output_type": "error",
     "traceback": [
      "\u001b[0;31m---------------------------------------------------------------------------\u001b[0m",
      "\u001b[0;31mKeyboardInterrupt\u001b[0m                         Traceback (most recent call last)",
      "\u001b[0;32m<ipython-input-7-405f2627e78d>\u001b[0m in \u001b[0;36m<module>\u001b[0;34m\u001b[0m\n\u001b[1;32m     90\u001b[0m \u001b[0;34m\u001b[0m\u001b[0m\n\u001b[1;32m     91\u001b[0m \u001b[0mc\u001b[0m \u001b[0;34m=\u001b[0m \u001b[0mCount_Inversions\u001b[0m\u001b[0;34m(\u001b[0m\u001b[0;34m)\u001b[0m\u001b[0;34m\u001b[0m\u001b[0;34m\u001b[0m\u001b[0m\n\u001b[0;32m---> 92\u001b[0;31m \u001b[0mc\u001b[0m\u001b[0;34m.\u001b[0m\u001b[0mtest\u001b[0m\u001b[0;34m(\u001b[0m\u001b[0;34m)\u001b[0m\u001b[0;34m\u001b[0m\u001b[0;34m\u001b[0m\u001b[0m\n\u001b[0m",
      "\u001b[0;32m<ipython-input-7-405f2627e78d>\u001b[0m in \u001b[0;36mtest\u001b[0;34m(self)\u001b[0m\n\u001b[1;32m     70\u001b[0m             \u001b[0;32mfor\u001b[0m \u001b[0mi\u001b[0m \u001b[0;32min\u001b[0m \u001b[0mrange\u001b[0m\u001b[0;34m(\u001b[0m\u001b[0mn_runs\u001b[0m\u001b[0;34m)\u001b[0m\u001b[0;34m:\u001b[0m\u001b[0;34m\u001b[0m\u001b[0;34m\u001b[0m\u001b[0m\n\u001b[1;32m     71\u001b[0m                 \u001b[0mstarttime\u001b[0m \u001b[0;34m=\u001b[0m \u001b[0mtime\u001b[0m\u001b[0;34m.\u001b[0m\u001b[0mtime\u001b[0m\u001b[0;34m(\u001b[0m\u001b[0;34m)\u001b[0m\u001b[0;34m\u001b[0m\u001b[0;34m\u001b[0m\u001b[0m\n\u001b[0;32m---> 72\u001b[0;31m                 \u001b[0mself\u001b[0m\u001b[0;34m.\u001b[0m\u001b[0mbrute_force\u001b[0m\u001b[0;34m(\u001b[0m\u001b[0;34m)\u001b[0m\u001b[0;34m\u001b[0m\u001b[0;34m\u001b[0m\u001b[0m\n\u001b[0m\u001b[1;32m     73\u001b[0m                 \u001b[0mendtime\u001b[0m \u001b[0;34m=\u001b[0m \u001b[0mtime\u001b[0m\u001b[0;34m.\u001b[0m\u001b[0mtime\u001b[0m\u001b[0;34m(\u001b[0m\u001b[0;34m)\u001b[0m\u001b[0;34m\u001b[0m\u001b[0;34m\u001b[0m\u001b[0m\n\u001b[1;32m     74\u001b[0m                 \u001b[0mbf_time\u001b[0m \u001b[0;34m+=\u001b[0m \u001b[0mendtime\u001b[0m \u001b[0;34m-\u001b[0m \u001b[0mstarttime\u001b[0m\u001b[0;34m\u001b[0m\u001b[0;34m\u001b[0m\u001b[0m\n",
      "\u001b[0;32m<ipython-input-7-405f2627e78d>\u001b[0m in \u001b[0;36mbrute_force\u001b[0;34m(self)\u001b[0m\n\u001b[1;32m     16\u001b[0m         \u001b[0;32mfor\u001b[0m \u001b[0mi\u001b[0m \u001b[0;32min\u001b[0m \u001b[0mrange\u001b[0m\u001b[0;34m(\u001b[0m\u001b[0msize\u001b[0m\u001b[0;34m-\u001b[0m\u001b[0;36m1\u001b[0m\u001b[0;34m)\u001b[0m\u001b[0;34m:\u001b[0m\u001b[0;34m\u001b[0m\u001b[0;34m\u001b[0m\u001b[0m\n\u001b[1;32m     17\u001b[0m             \u001b[0;32mfor\u001b[0m \u001b[0mj\u001b[0m \u001b[0;32min\u001b[0m \u001b[0mrange\u001b[0m\u001b[0;34m(\u001b[0m\u001b[0mi\u001b[0m\u001b[0;34m+\u001b[0m\u001b[0;36m1\u001b[0m\u001b[0;34m,\u001b[0m \u001b[0msize\u001b[0m\u001b[0;34m)\u001b[0m\u001b[0;34m:\u001b[0m\u001b[0;34m\u001b[0m\u001b[0;34m\u001b[0m\u001b[0m\n\u001b[0;32m---> 18\u001b[0;31m                 \u001b[0;32mif\u001b[0m \u001b[0mlist\u001b[0m\u001b[0;34m[\u001b[0m\u001b[0mi\u001b[0m\u001b[0;34m]\u001b[0m \u001b[0;34m>\u001b[0m \u001b[0mlist\u001b[0m\u001b[0;34m[\u001b[0m\u001b[0mj\u001b[0m\u001b[0;34m]\u001b[0m\u001b[0;34m:\u001b[0m\u001b[0;34m\u001b[0m\u001b[0;34m\u001b[0m\u001b[0m\n\u001b[0m\u001b[1;32m     19\u001b[0m                     \u001b[0mself\u001b[0m\u001b[0;34m.\u001b[0m\u001b[0mcount\u001b[0m \u001b[0;34m+=\u001b[0m \u001b[0;36m1\u001b[0m\u001b[0;34m\u001b[0m\u001b[0;34m\u001b[0m\u001b[0m\n\u001b[1;32m     20\u001b[0m         \u001b[0;32mreturn\u001b[0m \u001b[0mself\u001b[0m\u001b[0;34m.\u001b[0m\u001b[0mcount\u001b[0m\u001b[0;34m\u001b[0m\u001b[0;34m\u001b[0m\u001b[0m\n",
      "\u001b[0;31mKeyboardInterrupt\u001b[0m: "
     ]
    }
   ],
   "source": [
    "from typing import List\n",
    "import numpy as np\n",
    "import matplotlib.pyplot as plt\n",
    "import sys\n",
    "import time\n",
    "\n",
    "class Count_Inversions:\n",
    "    def __init__(self):\n",
    "        self.count = 0\n",
    "        self.list = []\n",
    "\n",
    "    def brute_force(self) -> int:\n",
    "        list = self.list\n",
    "        size = len(self.list)\n",
    "        self.count = 0\n",
    "        for i in range(size-1):\n",
    "            for j in range(i+1, size):\n",
    "                if list[i] > list[j]:\n",
    "                    self.count += 1\n",
    "        return self.count\n",
    "\n",
    "    def __helper_divide_and_conquer(self, list):\n",
    "        size = len(list)\n",
    "        mid = size // 2\n",
    "        left_list  = list[:mid]\n",
    "        right_list = list[mid:]\n",
    "        if size > 1:\n",
    "            self.__helper_divide_and_conquer(left_list)\n",
    "            self.__helper_divide_and_conquer(right_list)\n",
    "            # Merge-sorted sub arrays\n",
    "            i, j = 0, 0\n",
    "            for n in range(len(left_list) + len(right_list) + 1):\n",
    "                if left_list[i] <= right_list[j]:\n",
    "                    list[n] = left_list[i]\n",
    "                    i += 1\n",
    "                    if i == len(left_list) and j != len(right_list):\n",
    "                        while j != len(right_list):\n",
    "                            n += 1\n",
    "                            list[n] = right_list[j]\n",
    "                            j += 1\n",
    "                        break\n",
    "                elif left_list[i] > right_list[j]:\n",
    "                    list[n] = right_list[j]\n",
    "                    self.count += (len(left_list) - i)\n",
    "                    j += 1\n",
    "                    if j == len(right_list) and i != len(left_list):\n",
    "                        while i != len(left_list):\n",
    "                            n += 1\n",
    "                            list[n] = left_list[i]\n",
    "                            i += 1\n",
    "                        break\n",
    "\n",
    "    def divide_and_conquer(self) -> int:\n",
    "        self.count = 0\n",
    "        self.__helper_divide_and_conquer(self.list)\n",
    "        return self.count\n",
    "\n",
    "    def test(self):\n",
    "        n_runs = 10\n",
    "        bf_times = []\n",
    "        dc_times = []\n",
    "        vals1 = [x for x in range(100, 1000, 100)]\n",
    "        vals2 = [x for x in range(1000, 10000, 1000)]\n",
    "        vals = vals1 + vals2\n",
    "        vals = [10, 20, 100, 9000]\n",
    "        for val in vals:\n",
    "            bf_time = 0\n",
    "            dc_time = 0\n",
    "            self.list = np.random.randint(1, 9, size=val)\n",
    "            for i in range(n_runs):\n",
    "                starttime = time.time()\n",
    "                self.brute_force()\n",
    "                endtime = time.time()\n",
    "                bf_time += endtime - starttime\n",
    "\n",
    "                starttime = time.time()\n",
    "                self.divide_and_conquer()\n",
    "                endtime = time.time()\n",
    "                dc_time += endtime - starttime\n",
    "            bf_times.append(bf_time / n_runs)\n",
    "            dc_times.append(dc_time / n_runs)\n",
    "        plt.plot(vals, bf_times, label='brute-force')\n",
    "        plt.plot(vals, dc_times, label='divide-and-conquer')\n",
    "        plt.grid()\n",
    "        plt.legend(loc='best')\n",
    "\n",
    "        # print(self.list)\n",
    "        # print('BRUTE FORCE: ', self.brute_force())\n",
    "        # print('DC:          ', self.divide_and_conquer())\n",
    "\n",
    "c = Count_Inversions()\n",
    "c.test()"
   ]
  },
  {
   "cell_type": "code",
   "execution_count": 15,
   "metadata": {},
   "outputs": [
    {
     "name": "stdout",
     "output_type": "stream",
     "text": [
      "Greedy Slope: 0.8794039730065536, DP Slope: 0.9920716623217168\n"
     ]
    },
    {
     "data": {
      "image/png": "[encoded data removed]",
      "text/plain": [
       "<Figure size 432x288 with 1 Axes>"
      ]
     },
     "metadata": {
      "needs_background": "light"
     },
     "output_type": "display_data"
    }
   ],
   "source": [
    "# you don't need to change anything here\n",
    "# just run the cell\n",
    "# if your implementations BOTH work\n",
    "\n",
    "# I want you to look at the plot and explain the output well\n",
    "\n",
    "coins = [1, 10, 25, 50]\n",
    "vals = [x for x in range(1000, 20500, 500)]   # varying the value we pass in\n",
    "greedy_times = []\n",
    "dp_times = []\n",
    "\n",
    "n_runs = 20\n",
    "for val in vals:\n",
    "    greedy_time = 0\n",
    "    dp_time = 0\n",
    "    for i in range(n_runs):\n",
    "        starttime = time.time()\n",
    "        coin_counts_greedy = change_greedy(coins, val)\n",
    "        endtime = time.time()\n",
    "        greedy_time += endtime-starttime\n",
    "\n",
    "        starttime = time.time()\n",
    "        num_coins, ans = change_dp(coins, val)\n",
    "        endtime = time.time()\n",
    "        dp_time += endtime-starttime\n",
    "    greedy_times.append(greedy_time/n_runs)\n",
    "    dp_times.append(dp_time/n_runs)\n",
    "\n",
    "plt.plot(np.log(vals), np.log(greedy_times), label='greedy')\n",
    "plt.plot(np.log(vals), np.log(dp_times), label='dp')\n",
    "plt.grid()\n",
    "plt.legend(loc='best')\n",
    "\n",
    "slope_g, intercept_g = np.polyfit(np.log(vals), np.log(greedy_times), 1)\n",
    "slope_d, intercept_d = np.polyfit(np.log(vals), np.log(dp_times), 1)\n",
    "\n",
    "print('Greedy Slope: {}, DP Slope: {}'.format(slope_g, slope_d))"
   ]
  },
  {
   "cell_type": "markdown",
   "metadata": {},
   "source": [
    "<h3>Modifying number of coins</h3>\n",
    "<h4>You need to do the analysis in the report and explain what this represents</h4>"
   ]
  },
  {
   "cell_type": "code",
   "execution_count": 12,
   "metadata": {},
   "outputs": [
    {
     "name": "stdout",
     "output_type": "stream",
     "text": [
      "Greedy Slope: 1.2358509339754122, DP Slope: 0.9370653557953891\n"
     ]
    },
    {
     "data": {
      "image/png": "[encoded data removed]",
      "text/plain": [
       "<Figure size 432x288 with 1 Axes>"
      ]
     },
     "metadata": {
      "needs_background": "light"
     },
     "output_type": "display_data"
    }
   ],
   "source": [
    "# you don't need to change anything here\n",
    "# just run the cell\n",
    "# if your implementations BOTH work\n",
    "\n",
    "with np.errstate(divide='ignore'):\n",
    "    # varying the coin denominations we are using\n",
    "    # hopefully this doesn't break anything\n",
    "    coins = [np.random.choice(np.arange(0, 100), size=x, replace=False) for x in range(0, 102, 2)]\n",
    "    val = 127  # fixed value\n",
    "    greedy_times = []\n",
    "    dp_times = []\n",
    "    n_runs = 20\n",
    "    for coin in coins:\n",
    "        # can not use np.array in the above function and need to transform it to list\n",
    "        coin = coin.tolist()\n",
    "        greedy_time = 0\n",
    "        dp_time = 0\n",
    "        for i in range(n_runs):\n",
    "            starttime = time.time()\n",
    "            coin_counts_greedy = change_greedy(coin, val)\n",
    "            endtime = time.time()\n",
    "            greedy_time += endtime-starttime\n",
    "\n",
    "            starttime = time.time()\n",
    "            num_coins, ans = change_dp(coin, val)\n",
    "            endtime = time.time()\n",
    "            dp_time += endtime-starttime\n",
    "        greedy_times.append(greedy_time/n_runs)\n",
    "        dp_times.append(dp_time/n_runs)\n",
    "\n",
    "    plt.plot(np.log(np.arange(1, len(coins)+1)), np.log(greedy_times), label='greedy')\n",
    "    plt.plot(np.log(np.arange(1, len(coins)+1)), np.log(dp_times), label='dp')\n",
    "    plt.grid()\n",
    "    plt.legend(loc='best')\n",
    "\n",
    "    slope_g, intercept_g = np.polyfit(np.log(np.arange(1, len(coins)+1)), np.log(greedy_times), 1)\n",
    "    slope_d, intercept_d = np.polyfit(np.log(np.arange(1, len(coins)+1)), np.log(dp_times), 1)\n",
    "\n",
    "    print('Greedy Slope: {}, DP Slope: {}'.format(slope_g, slope_d))"
   ]
  }
 ],
 "metadata": {
  "kernelspec": {
   "display_name": "Python 3",
   "language": "python",
   "name": "python3"
  },
  "language_info": {
   "codemirror_mode": {
    "name": "ipython",
    "version": 3
   },
   "file_extension": ".py",
   "mimetype": "text/x-python",
   "name": "python",
   "nbconvert_exporter": "python",
   "pygments_lexer": "ipython3",
   "version": "3.7.1"
  }
 },
 "nbformat": 4,
 "nbformat_minor": 2
}
